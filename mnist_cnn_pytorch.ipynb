{
 "cells": [
  {
   "cell_type": "code",
   "execution_count": 1,
   "metadata": {},
   "outputs": [
    {
     "name": "stderr",
     "output_type": "stream",
     "text": [
      "/opt/conda/lib/python3.8/site-packages/tqdm/auto.py:22: TqdmWarning: IProgress not found. Please update jupyter and ipywidgets. See https://ipywidgets.readthedocs.io/en/stable/user_install.html\n",
      "  from .autonotebook import tqdm as notebook_tqdm\n"
     ]
    },
    {
     "name": "stdout",
     "output_type": "stream",
     "text": [
      "Epoch 1, Loss: 0.8581155929913018\n",
      "Epoch 2, Loss: 0.2081071079245953\n",
      "Epoch 3, Loss: 0.13486914363489158\n",
      "Epoch 4, Loss: 0.10271559043455797\n",
      "Epoch 5, Loss: 0.08509253144417125\n",
      "Epoch 6, Loss: 0.07366282478677852\n",
      "Epoch 7, Loss: 0.0658151869779266\n",
      "Epoch 8, Loss: 0.06001449331019654\n",
      "Epoch 9, Loss: 0.054830324239353696\n",
      "Epoch 10, Loss: 0.050768283971978516\n",
      "Finished Training\n",
      "Accuracy on test images: 98.35%\n"
     ]
    }
   ],
   "source": [
    "import torch\n",
    "import torch.nn as nn\n",
    "import torch.optim as optim\n",
    "import torchvision\n",
    "import torchvision.transforms as transforms\n",
    "\n",
    "# GPUが利用可能か確認\n",
    "device = torch.device(\"cuda:0\" if torch.cuda.is_available() else \"cpu\")\n",
    "\n",
    "# データの前処理\n",
    "transform = transforms.Compose([transforms.ToTensor(), transforms.Normalize((0.5,), (0.5,))])\n",
    "\n",
    "# MNISTデータセットの読み込み\n",
    "trainset = torchvision.datasets.MNIST(root='./data', train=True, download=True, transform=transform)\n",
    "trainloader = torch.utils.data.DataLoader(trainset, batch_size=64, shuffle=True)\n",
    "\n",
    "testset = torchvision.datasets.MNIST(root='./data', train=False, download=True, transform=transform)\n",
    "testloader = torch.utils.data.DataLoader(testset, batch_size=64, shuffle=False)\n",
    "\n",
    "# CNNネットワークの定義\n",
    "class Net(nn.Module):\n",
    "    def __init__(self):\n",
    "        super(Net, self).__init__()\n",
    "        self.conv1 = nn.Conv2d(1, 32, 3)\n",
    "        self.pool = nn.MaxPool2d(2, 2)\n",
    "        self.conv2 = nn.Conv2d(32, 64, 3)\n",
    "        self.fc1 = nn.Linear(64 * 5 * 5, 128)\n",
    "        self.fc2 = nn.Linear(128, 10)\n",
    "\n",
    "    def forward(self, x):\n",
    "        x = self.pool(nn.functional.relu(self.conv1(x)))\n",
    "        x = self.pool(nn.functional.relu(self.conv2(x)))\n",
    "        x = x.view(-1, 64 * 5 * 5)\n",
    "        x = nn.functional.relu(self.fc1(x))\n",
    "        x = self.fc2(x)\n",
    "        return x\n",
    "\n",
    "# モデルのインスタンス化とGPUへの移動\n",
    "net = Net()\n",
    "net.to(device)\n",
    "\n",
    "# 損失関数とオプティマイザの定義\n",
    "criterion = nn.CrossEntropyLoss()\n",
    "optimizer = optim.SGD(net.parameters(), lr=0.001, momentum=0.9)\n",
    "\n",
    "# モデルのトレーニング\n",
    "for epoch in range(10):  # エポック数を調整\n",
    "    running_loss = 0.0\n",
    "    for i, data in enumerate(trainloader, 0):\n",
    "        inputs, labels = data\n",
    "        inputs, labels = inputs.to(device), labels.to(device)  # データとラベルをGPUに送る\n",
    "        optimizer.zero_grad()\n",
    "        outputs = net(inputs)\n",
    "        loss = criterion(outputs, labels)\n",
    "        loss.backward()\n",
    "        optimizer.step()\n",
    "        running_loss += loss.item()\n",
    "    print(f'Epoch {epoch + 1}, Loss: {running_loss / len(trainloader)}')\n",
    "\n",
    "print('Finished Training')\n",
    "\n",
    "# テストデータでの精度を計算\n",
    "correct = 0\n",
    "total = 0\n",
    "with torch.no_grad():\n",
    "    for data in testloader:\n",
    "        images, labels = data\n",
    "        images, labels = images.to(device), labels.to(device)  # データとラベルをGPUに送る\n",
    "        outputs = net(images)\n",
    "        _, predicted = torch.max(outputs.data, 1)\n",
    "        total += labels.size(0)\n",
    "        correct += (predicted == labels).sum().item()\n",
    "\n",
    "print(f'Accuracy on test images: {100 * correct / total}%')"
   ]
  },
  {
   "cell_type": "code",
   "execution_count": 2,
   "metadata": {},
   "outputs": [],
   "source": [
    "class SaveFeatures:\n",
    "    features = None\n",
    "\n",
    "    def __init__(self, module):\n",
    "        self.hook = module.register_forward_hook(self.hook_fn)\n",
    "\n",
    "    def hook_fn(self, module, input, output):\n",
    "        self.features = output"
   ]
  },
  {
   "cell_type": "code",
   "execution_count": 3,
   "metadata": {},
   "outputs": [],
   "source": [
    "def grad_cam(model, img, target_class):\n",
    "    # 指定したクラスに対する勾配を取得するためのフックを設定\n",
    "    target_layer = model.conv2\n",
    "    feature_hook = SaveFeatures(target_layer)\n",
    "    \n",
    "    # モデルの順伝搬を実行\n",
    "    logits = model(img)\n",
    "    model.zero_grad()\n",
    "    logits.requires_grad_(True)\n",
    "    \n",
    "    gradients = feature_hook.features  # 勾配情報を取得\n",
    "    gradients.retain_grad()  # 勾配情報を保持\n",
    "    \n",
    "    # 指定したクラスに対する勾配を計算\n",
    "    logits[0, target_class].backward()\n",
    "    \n",
    "    # 勾配情報と特徴マップを取得\n",
    "    gradients = feature_hook.features.grad\n",
    "    activations = feature_hook.features\n",
    "    #print(activations.shape)\n",
    "    #print(gradients.shape)\n",
    "    \n",
    "    # Global Average Pooling (GAP)を計算\n",
    "    alpha = torch.mean(gradients, dim=(1, 2), keepdim=True)\n",
    "    #print(alpha.shape)\n",
    "    #print((alpha*activations).shape)\n",
    "    \n",
    "    # 重みを特徴マップに適用してGrad-CAMを生成\n",
    "    #grad_cam = torch.sum(alpha * activations, dim=0)\n",
    "    grad_cam = torch.sum(alpha * activations, dim=(0), keepdim=True)\n",
    "    #print(grad_cam[0].shape)\n",
    "    \n",
    "    # ReLUを適用して負の値を0にクリップ\n",
    "    grad_cam = nn.functional.relu(grad_cam)\n",
    "    \n",
    "    # Grad-CAMを画像サイズにリサイズ\n",
    "    grad_cam = nn.functional.interpolate(grad_cam.unsqueeze(0), size=img.shape[-2:], mode='bilinear', align_corners=False)\n",
    "    \n",
    "    return grad_cam[0]"
   ]
  },
  {
   "cell_type": "code",
   "execution_count": 7,
   "metadata": {},
   "outputs": [],
   "source": [
    "i = 0\n",
    "for data in testloader:\n",
    "    images, labels = data\n",
    "    images.requires_grad_(True)\n",
    "    images, labels = images.to(device), labels.to(device)  # データとラベルをGPUに送る\n",
    "    grad_cam_map = grad_cam(net, images[0], labels[0])\n",
    "    i += 1\n",
    "    if i == 4:\n",
    "        break"
   ]
  },
  {
   "cell_type": "code",
   "execution_count": 8,
   "metadata": {},
   "outputs": [],
   "source": [
    "import matplotlib.pyplot as plt\n",
    "import numpy\n",
    "\n",
    "# 画像とGrad-CAMマップを表示する関数\n",
    "def visualize_grad_cam(grad_cam_map, original_image):\n",
    "    plt.figure(figsize=(12, 4))\n",
    "    \n",
    "    # 元の画像を表示\n",
    "    plt.subplot(1, 2, 1)\n",
    "    original_image = original_image.cpu().detach().numpy().squeeze()  # 次元を削除\n",
    "    plt.imshow(original_image, cmap='gray')\n",
    "    plt.title(\"Original Image\")\n",
    "    \n",
    "    # Grad-CAMマップを表示\n",
    "    plt.subplot(1, 2, 2)\n",
    "    grad_cam_map = grad_cam_map.cpu().detach().numpy().squeeze()  # 次元を削除\n",
    "    plt.imshow(grad_cam_map, cmap='jet')\n",
    "    plt.title(\"Grad-CAM Map\")\n",
    "    \n",
    "    plt.tight_layout()\n",
    "    plt.show()"
   ]
  },
  {
   "cell_type": "code",
   "execution_count": 9,
   "metadata": {},
   "outputs": [
    {
     "data": {
      "image/png": "[encoded data removed]",
      "text/plain": [
       "<Figure size 1200x400 with 2 Axes>"
      ]
     },
     "metadata": {},
     "output_type": "display_data"
    }
   ],
   "source": [
    "visualize_grad_cam(grad_cam_map, images[0])"
   ]
  }
 ],
 "metadata": {
  "kernelspec": {
   "display_name": "base",
   "language": "python",
   "name": "python3"
  },
  "language_info": {
   "codemirror_mode": {
    "name": "ipython",
    "version": 3
   },
   "file_extension": ".py",
   "mimetype": "text/x-python",
   "name": "python",
   "nbconvert_exporter": "python",
   "pygments_lexer": "ipython3",
   "version": "3.8.13"
  },
  "orig_nbformat": 4
 },
 "nbformat": 4,
 "nbformat_minor": 2
}
